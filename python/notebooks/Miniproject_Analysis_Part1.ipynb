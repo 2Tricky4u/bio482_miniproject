{
 "cells": [
  {
   "cell_type": "markdown",
   "metadata": {
    "id": "8GefxTt4Zrmg"
   },
   "source": [
    "# Miniproject - Neuroscience: cellular and circuit mechanisms (BIO-482)\n",
    "\n",
    "- This notebook produces the figures for **part 1** of the miniproject.\n",
    "\n",
    "#### Importing libraries"
   ]
  },
  {
   "cell_type": "code",
   "execution_count": 1,
   "metadata": {
    "colab": {
     "base_uri": "https://localhost:8080/"
    },
    "id": "bgSHGo8yD27T",
    "outputId": "c4a4062a-37c3-4208-ef19-0a1108272ac2"
   },
   "outputs": [],
   "source": [
    "import os\n",
    "from mat73 import loadmat\n",
    "import numpy as np\n",
    "import pandas as pd\n",
    "import matplotlib.pyplot as plt\n",
    "import seaborn as sns"
   ]
  },
  {
   "cell_type": "markdown",
   "metadata": {},
   "source": [
    "#### Importing helper functions\n",
    " Feel free to check out what these functions do in the corresponding files, `helpers.py` or `utils.py`. \n",
    " - `helpers.py` contains functions to analyze membrane potential recording data\n",
    " - `utils.py` contains functions useful for other things e.g. plotting"
   ]
  },
  {
   "cell_type": "code",
   "execution_count": 2,
   "metadata": {},
   "outputs": [],
   "source": [
    "from helpers import *\n",
    "from utils import remove_top_right_frame, jitter_scatterplot"
   ]
  },
  {
   "cell_type": "markdown",
   "metadata": {},
   "source": [
    "# Load data\n",
    "Load the data as `.mat` file (saved from MATLAB) and format into a dataframe:"
   ]
  },
  {
   "cell_type": "code",
   "execution_count": 14,
   "metadata": {},
   "outputs": [
    {
     "name": "stdout",
     "output_type": "stream",
     "text": [
      "Main working directory: /Users/bisi/Documents/PhD/TA/BIO-482/2022/BIO-482_2022_Python\n"
     ]
    }
   ],
   "source": [
    "# Make paths\n",
    "main_dir = '/Users/bisi/Documents/PhD/TA/BIO-482/2022/BIO-482_2022_Python'\n",
    "print('Main working directory:', main_dir)\n",
    "figure_path = os.path.join(main_dir, 'Figures')\n",
    "data_path = os.path.join(main_dir, 'Data') #if your folder is organized differently, just specify the full path to the .mat file\n",
    "data_path = '/Users/bisi/Documents/PhD/TA/BIO-482/2022/BIO-482_2022_Python/Data/'\n"
   ]
  },
  {
   "cell_type": "code",
   "execution_count": 5,
   "metadata": {},
   "outputs": [
    {
     "name": "stdout",
     "output_type": "stream",
     "text": [
      "Data loaded!\n"
     ]
    },
    {
     "name": "stderr",
     "output_type": "stream",
     "text": [
      "/opt/anaconda3/lib/python3.9/site-packages/numpy/core/_asarray.py:102: VisibleDeprecationWarning: Creating an ndarray from ragged nested sequences (which is a list-or-tuple of lists-or-tuples-or ndarrays with different lengths or shapes) is deprecated. If you meant to do this, you must specify 'dtype=object' when creating the ndarray.\n",
      "  return array(a, dtype, copy=False, order=order)\n"
     ]
    }
   ],
   "source": [
    "# Load data from .mat file\n",
    "data = loadmat(os.path.join(data_path, 'Data_Bio482.mat'))\n",
    "print('Data loaded!')\n",
    "data = data['Data']\n",
    "\n",
    "# Format data as DataFrame\n",
    "n_samples = data[list(data.keys())[0]].shape[0]\n",
    "data_df = pd.DataFrame(columns=data.keys(), index=range(n_samples)) #init. dataframe with correct columns and size\n",
    "for col in data_df.columns:\n",
    "    data_df[col] = np.squeeze(np.asarray(data[col])) #squeeze remove useless dimension"
   ]
  },
  {
   "cell_type": "markdown",
   "metadata": {},
   "source": [
    "Inspect how the dataframe looks like:"
   ]
  },
  {
   "cell_type": "code",
   "execution_count": 6,
   "metadata": {},
   "outputs": [
    {
     "data": {
      "text/html": [
       "<div>\n",
       "<style scoped>\n",
       "    .dataframe tbody tr th:only-of-type {\n",
       "        vertical-align: middle;\n",
       "    }\n",
       "\n",
       "    .dataframe tbody tr th {\n",
       "        vertical-align: top;\n",
       "    }\n",
       "\n",
       "    .dataframe thead th {\n",
       "        text-align: right;\n",
       "    }\n",
       "</style>\n",
       "<table border=\"1\" class=\"dataframe\">\n",
       "  <thead>\n",
       "    <tr style=\"text-align: right;\">\n",
       "      <th></th>\n",
       "      <th>Cell_APThreshold_Slope</th>\n",
       "      <th>Cell_Anatomy</th>\n",
       "      <th>Cell_Counter</th>\n",
       "      <th>Cell_Depth</th>\n",
       "      <th>Cell_ID</th>\n",
       "      <th>Cell_Layer</th>\n",
       "      <th>Cell_TargetedBrainArea</th>\n",
       "      <th>Cell_Type</th>\n",
       "      <th>Cell_tdTomatoExpressing</th>\n",
       "      <th>Mouse_DateOfBirth</th>\n",
       "      <th>...</th>\n",
       "      <th>Sweep_Counter</th>\n",
       "      <th>Sweep_MembranePotential</th>\n",
       "      <th>Sweep_MembranePotential_SamplingRate</th>\n",
       "      <th>Sweep_PassiveContactTimes</th>\n",
       "      <th>Sweep_QuietTimes</th>\n",
       "      <th>Sweep_StartTime</th>\n",
       "      <th>Sweep_Type</th>\n",
       "      <th>Sweep_WhiskerAngle</th>\n",
       "      <th>Sweep_WhiskerAngle_SamplingRate</th>\n",
       "      <th>Sweep_WhiskingTimes</th>\n",
       "    </tr>\n",
       "  </thead>\n",
       "  <tbody>\n",
       "    <tr>\n",
       "      <th>0</th>\n",
       "      <td>10.0</td>\n",
       "      <td>L2/3</td>\n",
       "      <td>1.0</td>\n",
       "      <td>229.0</td>\n",
       "      <td>SC901_1</td>\n",
       "      <td>L2/3</td>\n",
       "      <td>C2</td>\n",
       "      <td>EXC</td>\n",
       "      <td>False</td>\n",
       "      <td>NaN</td>\n",
       "      <td>...</td>\n",
       "      <td>1.0</td>\n",
       "      <td>[-0.044009375, -0.044028125, -0.0439875, -0.04...</td>\n",
       "      <td>20000.0</td>\n",
       "      <td>[[4.567, 4.713], [7.327, 7.519], [14.481, 14.6...</td>\n",
       "      <td>[[0.002, 4.564], [4.606, 6.09], [14.634, 15.52...</td>\n",
       "      <td>2005.0</td>\n",
       "      <td>active touch</td>\n",
       "      <td>[2.740000000000009, 2.740000000000009, 2.74000...</td>\n",
       "      <td>100.0</td>\n",
       "      <td>[[6.118, 6.326], [7.942, 13.856]]</td>\n",
       "    </tr>\n",
       "    <tr>\n",
       "      <th>1</th>\n",
       "      <td>10.0</td>\n",
       "      <td>L2/3</td>\n",
       "      <td>1.0</td>\n",
       "      <td>229.0</td>\n",
       "      <td>SC901_1</td>\n",
       "      <td>L2/3</td>\n",
       "      <td>C2</td>\n",
       "      <td>EXC</td>\n",
       "      <td>False</td>\n",
       "      <td>NaN</td>\n",
       "      <td>...</td>\n",
       "      <td>2.0</td>\n",
       "      <td>[-0.046275, -0.04629375, -0.046259375, -0.0462...</td>\n",
       "      <td>20000.0</td>\n",
       "      <td>[[15.274999999999999, 15.375], [16.247, 16.643...</td>\n",
       "      <td>[[0.002, 4.496], [5.558, 6.626], [13.406, 15.2...</td>\n",
       "      <td>2005.0</td>\n",
       "      <td>active touch</td>\n",
       "      <td>[2.680000000000007, 2.680000000000007, 2.68000...</td>\n",
       "      <td>100.0</td>\n",
       "      <td>[[4.7, 5.196], [6.696, 11.15], [12.032, 13.006...</td>\n",
       "    </tr>\n",
       "    <tr>\n",
       "      <th>2</th>\n",
       "      <td>10.0</td>\n",
       "      <td>L2/3</td>\n",
       "      <td>1.0</td>\n",
       "      <td>229.0</td>\n",
       "      <td>SC901_1</td>\n",
       "      <td>L2/3</td>\n",
       "      <td>C2</td>\n",
       "      <td>EXC</td>\n",
       "      <td>False</td>\n",
       "      <td>NaN</td>\n",
       "      <td>...</td>\n",
       "      <td>3.0</td>\n",
       "      <td>[-0.041896875, -0.0419125, -0.041909375, -0.04...</td>\n",
       "      <td>20000.0</td>\n",
       "      <td>[[4.347000000000001, 7.0390000000000015], [8.2...</td>\n",
       "      <td>[[0.002, 2.128], [6.252, 7.01], [7.15, 20.0]]</td>\n",
       "      <td>2005.0</td>\n",
       "      <td>passive contact</td>\n",
       "      <td>[1.4958937492820894, 1.5019819900587095, 1.509...</td>\n",
       "      <td>100.0</td>\n",
       "      <td>[[2.15, 3.652], [4.362, 5.848]]</td>\n",
       "    </tr>\n",
       "  </tbody>\n",
       "</table>\n",
       "<p>3 rows × 24 columns</p>\n",
       "</div>"
      ],
      "text/plain": [
       "   Cell_APThreshold_Slope Cell_Anatomy  Cell_Counter  Cell_Depth  Cell_ID  \\\n",
       "0                    10.0         L2/3           1.0       229.0  SC901_1   \n",
       "1                    10.0         L2/3           1.0       229.0  SC901_1   \n",
       "2                    10.0         L2/3           1.0       229.0  SC901_1   \n",
       "\n",
       "  Cell_Layer Cell_TargetedBrainArea Cell_Type Cell_tdTomatoExpressing  \\\n",
       "0       L2/3                     C2       EXC                   False   \n",
       "1       L2/3                     C2       EXC                   False   \n",
       "2       L2/3                     C2       EXC                   False   \n",
       "\n",
       "   Mouse_DateOfBirth  ... Sweep_Counter  \\\n",
       "0                NaN  ...           1.0   \n",
       "1                NaN  ...           2.0   \n",
       "2                NaN  ...           3.0   \n",
       "\n",
       "                             Sweep_MembranePotential  \\\n",
       "0  [-0.044009375, -0.044028125, -0.0439875, -0.04...   \n",
       "1  [-0.046275, -0.04629375, -0.046259375, -0.0462...   \n",
       "2  [-0.041896875, -0.0419125, -0.041909375, -0.04...   \n",
       "\n",
       "  Sweep_MembranePotential_SamplingRate  \\\n",
       "0                              20000.0   \n",
       "1                              20000.0   \n",
       "2                              20000.0   \n",
       "\n",
       "                           Sweep_PassiveContactTimes  \\\n",
       "0  [[4.567, 4.713], [7.327, 7.519], [14.481, 14.6...   \n",
       "1  [[15.274999999999999, 15.375], [16.247, 16.643...   \n",
       "2  [[4.347000000000001, 7.0390000000000015], [8.2...   \n",
       "\n",
       "                                    Sweep_QuietTimes Sweep_StartTime  \\\n",
       "0  [[0.002, 4.564], [4.606, 6.09], [14.634, 15.52...          2005.0   \n",
       "1  [[0.002, 4.496], [5.558, 6.626], [13.406, 15.2...          2005.0   \n",
       "2      [[0.002, 2.128], [6.252, 7.01], [7.15, 20.0]]          2005.0   \n",
       "\n",
       "        Sweep_Type                                 Sweep_WhiskerAngle  \\\n",
       "0     active touch  [2.740000000000009, 2.740000000000009, 2.74000...   \n",
       "1     active touch  [2.680000000000007, 2.680000000000007, 2.68000...   \n",
       "2  passive contact  [1.4958937492820894, 1.5019819900587095, 1.509...   \n",
       "\n",
       "  Sweep_WhiskerAngle_SamplingRate  \\\n",
       "0                           100.0   \n",
       "1                           100.0   \n",
       "2                           100.0   \n",
       "\n",
       "                                 Sweep_WhiskingTimes  \n",
       "0                  [[6.118, 6.326], [7.942, 13.856]]  \n",
       "1  [[4.7, 5.196], [6.696, 11.15], [12.032, 13.006...  \n",
       "2                    [[2.15, 3.652], [4.362, 5.848]]  \n",
       "\n",
       "[3 rows x 24 columns]"
      ]
     },
     "execution_count": 6,
     "metadata": {},
     "output_type": "execute_result"
    }
   ],
   "source": [
    "data_df.head(3)"
   ]
  },
  {
   "cell_type": "code",
   "execution_count": 7,
   "metadata": {},
   "outputs": [
    {
     "data": {
      "text/html": [
       "<div>\n",
       "<style scoped>\n",
       "    .dataframe tbody tr th:only-of-type {\n",
       "        vertical-align: middle;\n",
       "    }\n",
       "\n",
       "    .dataframe tbody tr th {\n",
       "        vertical-align: top;\n",
       "    }\n",
       "\n",
       "    .dataframe thead th {\n",
       "        text-align: right;\n",
       "    }\n",
       "</style>\n",
       "<table border=\"1\" class=\"dataframe\">\n",
       "  <thead>\n",
       "    <tr style=\"text-align: right;\">\n",
       "      <th></th>\n",
       "      <th>Cell_APThreshold_Slope</th>\n",
       "      <th>Cell_Counter</th>\n",
       "      <th>Cell_Depth</th>\n",
       "      <th>Mouse_DateOfBirth</th>\n",
       "      <th>Sweep_Counter</th>\n",
       "      <th>Sweep_MembranePotential_SamplingRate</th>\n",
       "      <th>Sweep_StartTime</th>\n",
       "      <th>Sweep_WhiskerAngle_SamplingRate</th>\n",
       "    </tr>\n",
       "  </thead>\n",
       "  <tbody>\n",
       "    <tr>\n",
       "      <th>count</th>\n",
       "      <td>831.000000</td>\n",
       "      <td>831.000000</td>\n",
       "      <td>814.000000</td>\n",
       "      <td>602.000000</td>\n",
       "      <td>831.000000</td>\n",
       "      <td>831.0</td>\n",
       "      <td>831.000000</td>\n",
       "      <td>831.0</td>\n",
       "    </tr>\n",
       "    <tr>\n",
       "      <th>mean</th>\n",
       "      <td>15.330927</td>\n",
       "      <td>1.450060</td>\n",
       "      <td>296.168305</td>\n",
       "      <td>2015.315615</td>\n",
       "      <td>3.669073</td>\n",
       "      <td>20000.0</td>\n",
       "      <td>2013.281588</td>\n",
       "      <td>100.0</td>\n",
       "    </tr>\n",
       "    <tr>\n",
       "      <th>std</th>\n",
       "      <td>7.035538</td>\n",
       "      <td>0.780545</td>\n",
       "      <td>140.527726</td>\n",
       "      <td>0.713587</td>\n",
       "      <td>3.605550</td>\n",
       "      <td>0.0</td>\n",
       "      <td>3.761586</td>\n",
       "      <td>0.0</td>\n",
       "    </tr>\n",
       "    <tr>\n",
       "      <th>min</th>\n",
       "      <td>0.000000</td>\n",
       "      <td>1.000000</td>\n",
       "      <td>97.000000</td>\n",
       "      <td>2013.000000</td>\n",
       "      <td>1.000000</td>\n",
       "      <td>20000.0</td>\n",
       "      <td>2005.000000</td>\n",
       "      <td>100.0</td>\n",
       "    </tr>\n",
       "    <tr>\n",
       "      <th>25%</th>\n",
       "      <td>10.000000</td>\n",
       "      <td>1.000000</td>\n",
       "      <td>185.000000</td>\n",
       "      <td>2015.000000</td>\n",
       "      <td>1.000000</td>\n",
       "      <td>20000.0</td>\n",
       "      <td>2013.000000</td>\n",
       "      <td>100.0</td>\n",
       "    </tr>\n",
       "    <tr>\n",
       "      <th>50%</th>\n",
       "      <td>15.000000</td>\n",
       "      <td>1.000000</td>\n",
       "      <td>234.000000</td>\n",
       "      <td>2015.000000</td>\n",
       "      <td>3.000000</td>\n",
       "      <td>20000.0</td>\n",
       "      <td>2015.000000</td>\n",
       "      <td>100.0</td>\n",
       "    </tr>\n",
       "    <tr>\n",
       "      <th>75%</th>\n",
       "      <td>20.000000</td>\n",
       "      <td>2.000000</td>\n",
       "      <td>427.000000</td>\n",
       "      <td>2016.000000</td>\n",
       "      <td>4.000000</td>\n",
       "      <td>20000.0</td>\n",
       "      <td>2016.000000</td>\n",
       "      <td>100.0</td>\n",
       "    </tr>\n",
       "    <tr>\n",
       "      <th>max</th>\n",
       "      <td>40.000000</td>\n",
       "      <td>5.000000</td>\n",
       "      <td>665.000000</td>\n",
       "      <td>2017.000000</td>\n",
       "      <td>27.000000</td>\n",
       "      <td>20000.0</td>\n",
       "      <td>2017.000000</td>\n",
       "      <td>100.0</td>\n",
       "    </tr>\n",
       "  </tbody>\n",
       "</table>\n",
       "</div>"
      ],
      "text/plain": [
       "       Cell_APThreshold_Slope  Cell_Counter  Cell_Depth  Mouse_DateOfBirth  \\\n",
       "count              831.000000    831.000000  814.000000         602.000000   \n",
       "mean                15.330927      1.450060  296.168305        2015.315615   \n",
       "std                  7.035538      0.780545  140.527726           0.713587   \n",
       "min                  0.000000      1.000000   97.000000        2013.000000   \n",
       "25%                 10.000000      1.000000  185.000000        2015.000000   \n",
       "50%                 15.000000      1.000000  234.000000        2015.000000   \n",
       "75%                 20.000000      2.000000  427.000000        2016.000000   \n",
       "max                 40.000000      5.000000  665.000000        2017.000000   \n",
       "\n",
       "       Sweep_Counter  Sweep_MembranePotential_SamplingRate  Sweep_StartTime  \\\n",
       "count     831.000000                                 831.0       831.000000   \n",
       "mean        3.669073                               20000.0      2013.281588   \n",
       "std         3.605550                                   0.0         3.761586   \n",
       "min         1.000000                               20000.0      2005.000000   \n",
       "25%         1.000000                               20000.0      2013.000000   \n",
       "50%         3.000000                               20000.0      2015.000000   \n",
       "75%         4.000000                               20000.0      2016.000000   \n",
       "max        27.000000                               20000.0      2017.000000   \n",
       "\n",
       "       Sweep_WhiskerAngle_SamplingRate  \n",
       "count                            831.0  \n",
       "mean                             100.0  \n",
       "std                                0.0  \n",
       "min                              100.0  \n",
       "25%                              100.0  \n",
       "50%                              100.0  \n",
       "75%                              100.0  \n",
       "max                              100.0  "
      ]
     },
     "execution_count": 7,
     "metadata": {},
     "output_type": "execute_result"
    }
   ],
   "source": [
    "data_df.describe() #shows numeric columns only"
   ]
  },
  {
   "cell_type": "markdown",
   "metadata": {
    "id": "3OrDCx55a-Jd"
   },
   "source": [
    "# Part 1 - Properties of cortical neurons during quiet wakefulness: suprathreshold/subthreshold activity and cell class [3/10 marks]"
   ]
  },
  {
   "cell_type": "markdown",
   "metadata": {
    "id": "CaZdVWk2G4VW"
   },
   "source": [
    "Set general general parameters that we will use throughout part 1:"
   ]
  },
  {
   "cell_type": "code",
   "execution_count": 8,
   "metadata": {
    "id": "FENwbbOpGy-5"
   },
   "outputs": [],
   "source": [
    "sweep_type = 'free whisking'\n",
    "time_window = 2    # time window to analyze Vm (s)\n",
    "freq_band_lim = [1, 10, 30, 90] # low- and high-frequency band limits (Hz)"
   ]
  },
  {
   "cell_type": "markdown",
   "metadata": {
    "id": "Tq3ej_mXbHH3"
   },
   "source": [
    " Select data for specific one sweep type (sweep and trial are synonymous):"
   ]
  },
  {
   "cell_type": "code",
   "execution_count": 9,
   "metadata": {
    "id": "uOb7EGUCa9Bv"
   },
   "outputs": [],
   "source": [
    "data_df_subset = data_df[data_df['Sweep_Type']==sweep_type] "
   ]
  },
  {
   "cell_type": "markdown",
   "metadata": {
    "id": "hIHPgL3Webm5"
   },
   "source": [
    "Find all the unique recorded cells present in the data:"
   ]
  },
  {
   "cell_type": "code",
   "execution_count": 10,
   "metadata": {
    "id": "GnDsU7NbaClK",
    "scrolled": true
   },
   "outputs": [
    {
     "name": "stdout",
     "output_type": "stream",
     "text": [
      "Number of cells: 232\n"
     ]
    }
   ],
   "source": [
    "all_cells = np.unique(data_df_subset.Cell_ID)\n",
    "print('Number of cells:', len(all_cells))"
   ]
  },
  {
   "cell_type": "markdown",
   "metadata": {
    "id": "d8N9-iVQf3Ic"
   },
   "source": [
    "# Here we start the analysis\n",
    "- Here, we iterate over cells and trials per cell to compute, collect relevant data."
   ]
  },
  {
   "cell_type": "code",
   "execution_count": 39,
   "metadata": {
    "id": "yDFPyy9taG61",
    "scrolled": false
   },
   "outputs": [
    {
     "name": "stdout",
     "output_type": "stream",
     "text": [
      "Cell 0/232\n",
      "Cell 100/232\n"
     ]
    },
    {
     "name": "stderr",
     "output_type": "stream",
     "text": [
      "/Users/bisi/Documents/PhD/TA/BIO-482/2022/BIO-482_2022_Python/Code/helpers.py:18: RuntimeWarning: invalid value encountered in true_divide\n",
      "  AP_Thrs_Onset = np.diff(np.divide(Vm_Deriv - Vm_Deriv_Thrs, np.abs(Vm_Deriv - Vm_Deriv_Thrs)))\n",
      "/var/folders/vr/p3nztt9d26q4905fqmd3ljw00000gq/T/ipykernel_1691/2138760088.py:129: RuntimeWarning: Mean of empty slice\n",
      "  result_dict['ap_duration'] += [np.nanmean(np.concatenate(tot_ap_duration))]\n"
     ]
    },
    {
     "name": "stdout",
     "output_type": "stream",
     "text": [
      "Cell 200/232\n"
     ]
    },
    {
     "name": "stderr",
     "output_type": "stream",
     "text": [
      "/Users/bisi/Documents/PhD/TA/BIO-482/2022/BIO-482_2022_Python/Code/helpers.py:52: RuntimeWarning: invalid value encountered in true_divide\n",
      "  sAP_OnOff = np.diff(np.divide(sAP_Seg, np.abs(sAP_Seg)))  # compute the binary signal\n"
     ]
    },
    {
     "name": "stdout",
     "output_type": "stream",
     "text": [
      "Done!\n"
     ]
    }
   ],
   "source": [
    "verbose=False #set to 0 to hide individual AP plots\n",
    "\n",
    "# Initialize a dictionary to store data for all cell\n",
    "result_dict = {'cell_id': all_cells, \n",
    "          'cell_type':[], # required for cell-type identification\n",
    "          # Data we'll collect for Part 1a\n",
    "          'firing_rate': [], \n",
    "          'ap_threshold': [], \n",
    "          'ap_duration': [], \n",
    "          # Data we'll collect for Part 1b\n",
    "          'mean_vm':[],\n",
    "          'std_vm':[],\n",
    "          'fft_low':[],\n",
    "          'fft_high':[]\n",
    "        }\n",
    "\n",
    "result_fft_cell_type = {'EXC':[],'SST':[], 'VIP':[],'PV':[]}\n",
    "\n",
    "exc_cell_counter = 0\n",
    "\n",
    "# Iterate over each cell identities to collect desired data\n",
    "cell_list = sorted(np.unique(data_df_subset.Cell_ID), reverse=True) #NOTE: DO NOT START WITH AC32 bc. no AP and undefined ap_params contnet\n",
    "for idx, cell in enumerate(cell_list):\n",
    "    if idx%100==0:\n",
    "        print('Cell {}/{}'.format(idx, np.unique(data_df_subset.Cell_ID).shape[0]))\n",
    "    \n",
    "    # Get mouse name and cell number from cell identifier\n",
    "    mouse = cell.split('_')[0]\n",
    "    cell_count = float(cell.split('_')[1])\n",
    "    \n",
    "    # Get data subset for that cell\n",
    "    cell_df = data_df_subset[data_df_subset.Cell_ID==cell]\n",
    "    \n",
    "    # Get cell type \n",
    "    cell_type = cell_df.Cell_Type.values[0]\n",
    "    result_dict['cell_type'] += [cell_type]\n",
    "    \n",
    "    # Get sweeps/trials recorded for that cell, that we are going to iterate over\n",
    "    trial_list = cell_df.Sweep_Counter.values\n",
    "    \n",
    "    # Init. cell recording specific quantities: a unique duration, yielding a unique number of APs\n",
    "    tot_rec_duration = 0\n",
    "    tot_number_ap = 0\n",
    "    \n",
    "    # Initialize empty lists to get data for each trial/sweep\n",
    "    # Part 1a\n",
    "    tot_ap_thresh = []\n",
    "    tot_ap_duration = []\n",
    "    # Part 1b\n",
    "    tot_mean_vm = []\n",
    "    tot_std_vm = []\n",
    "    tot_fft = []\n",
    "    \n",
    "    # For that cell, iterate over trials\n",
    "    for trial in trial_list:\n",
    "        #if idx % 100 == 0: # print every 100 iteration  \n",
    "            #print('Cell {},  trial {}'.format(cell, int(trial)))\n",
    "        if cell_type == 'EXC':\n",
    "            exc_cell_counter += 1\n",
    "        \n",
    "        # Get current trial data\n",
    "        cell_trial_df = cell_df[cell_df.Sweep_Counter==trial]\n",
    "        \n",
    "        # Get the sampling rate and membrane potential (and derivative) from that sweep\n",
    "        sr_vm = cell_trial_df['Sweep_MembranePotential_SamplingRate'].values[0] #[0] to get the content of the array\n",
    "        membrane_potential = cell_trial_df['Sweep_MembranePotential'].values[0]\n",
    "        ap_vm_deriv_thresh = cell_trial_df['Cell_APThreshold_Slope'].values[0]\n",
    "        \n",
    "        # Get and update recording duration for that cell by adding trial duration\n",
    "        trial_rec_duration = len(membrane_potential)/sr_vm\n",
    "        tot_rec_duration += trial_rec_duration\n",
    "        \n",
    "        # Detection of action potentials for that trial, and update total number of APs for that cell\n",
    "        #ap_params = None\n",
    "        ap_params = Function_Detect_APs(membrane_potential, sr_vm, ap_vm_deriv_thresh) \n",
    "        tot_number_ap += ap_params.shape[0]\n",
    "          \n",
    "        # Check if this trial contains any AP...\n",
    "        ap_duration = []\n",
    "        if (ap_params.any()):\n",
    "            ap_thresh_times = ap_params[:,0]\n",
    "            ap_thresh_vm = ap_params[:,1]\n",
    "            ap_peak_times = ap_params[:,2]\n",
    "            ap_peak_vm = ap_params[:,3]\n",
    "            ap_duration = ap_params[:,5] #check for no-APs (cells with no spikes in ALL trials:EXC5,16 FR=0, AP_dur=np.nan)\n",
    "\n",
    "            #... if so, cut-out individual APs to keep subthreshold Vm only\n",
    "            vm_sub = Function_CutAPs(membrane_potential, sr_vm, ap_peak_times, ap_thresh_times)\n",
    "            \n",
    "            \n",
    "        # Else if no AP, subthreshold Vm is just Vm\n",
    "        else:\n",
    "            \n",
    "            vm_sub = membrane_potential.copy()\n",
    "\n",
    "        # Once Vm_sub is obtained:\n",
    "        # Compute subthreshold Vm mean and standard deviation\n",
    "        mean_vm, std_vm = Function_SubThrsVm(vm_sub, sr_vm, trial_rec_duration)\n",
    "        \n",
    "        # Compute trial FFT\n",
    "        fft = Function_Compute_FFTs(vm_sub, sr_vm, time_window)\n",
    "        \n",
    "        #Update current variables from the current trial\n",
    "        # Part 1a\n",
    "        tot_ap_thresh += [np.concatenate([ap_thresh_vm])]\n",
    "        tot_ap_duration += [ap_duration]\n",
    "        # Part 1b\n",
    "        tot_mean_vm += [mean_vm]\n",
    "        tot_std_vm += [std_vm]\n",
    "        tot_fft +=  [fft]\n",
    "        \n",
    "        # Optional plotting: show AP and AP peak times\n",
    "        ap_peak_index=np.round(ap_peak_times * sr_vm)  \n",
    "        if verbose:\n",
    "            fig, ax = plt.subplots(1,1, figsize=(10,2), dpi=300)\n",
    "            remove_top_right_frame(ax)\n",
    "            ax.set_title('Cell {},  trial {}'.format(cell, int(trial)))\n",
    "            ax.plot(membrane_potential, lw=0.5,  zorder=0)\n",
    "            ax.scatter(ap_peak_index, ap_peak_vm, lw=0.5, marker='+', color='r')\n",
    "            ax.set_xlabel('Time (samples)')\n",
    "            ax.set_ylabel('Membrane \\n potential (V)')\n",
    "            plt.show()\n",
    "\n",
    "    # Once iterated over all trials for that cell, append cell data lists to the result dictionary\n",
    "  \n",
    "    # Part 1a\n",
    "    result_dict['firing_rate'] += [tot_number_ap / tot_rec_duration] # <- just the firing rate formula\n",
    "    result_dict['ap_threshold'] += [np.nanmean(np.concatenate(tot_ap_thresh))] #<-concatenate trials, get trial-average\n",
    "    result_dict['ap_duration'] += [np.nanmean(np.concatenate(tot_ap_duration))]\n",
    "\n",
    "    \n",
    "    # Part 1b\n",
    "    result_dict['mean_vm'] += [np.nanmean(np.concatenate(tot_mean_vm))]\n",
    "    result_dict['std_vm'] += [np.nanmean(np.concatenate(tot_std_vm))]\n",
    "    \n",
    "    # Compute mean FFT over trials\n",
    "    tot_fft = np.nanmean(np.concatenate(tot_fft, axis=1), 1)\n",
    "    #Store mean cell FFT\n",
    "    result_fft_cell_type[cell_type] += [tot_fft] \n",
    "    \n",
    "    # We need to find which point (sample) in the FFT correspond to which frequency\n",
    "    pt1 = int(freq_band_lim[0] * fft.shape[0] / (sr_vm/2) ) + 1 #1Hz into FFT point\n",
    "    pt2 = int(freq_band_lim[1] * fft.shape[0] / (sr_vm/2) ) + 1 #int: slicing requires integers\n",
    "    result_dict['fft_low'] += [tot_fft[pt1:pt2].mean()]\n",
    "    \n",
    "    pt3 = int(freq_band_lim[2] * fft.shape[0] / (sr_vm/2) ) + 1\n",
    "    pt4 = int(freq_band_lim[3] * fft.shape[0] / (sr_vm/2) ) + 1 \n",
    "    result_dict['fft_high'] += [tot_fft[pt3:pt4].mean()]\n",
    "\n",
    "## Convert each dictionary lists as numpy arrays (convenient to make dataframes)\n",
    "result_dict = {key: np.array(result_dict[key]) for key in result_dict.keys()}\n",
    "\n",
    "print('Done!')"
   ]
  },
  {
   "cell_type": "markdown",
   "metadata": {},
   "source": [
    "Format result dictionary as dataframe:"
   ]
  },
  {
   "cell_type": "code",
   "execution_count": 40,
   "metadata": {},
   "outputs": [
    {
     "data": {
      "text/html": [
       "<div>\n",
       "<style scoped>\n",
       "    .dataframe tbody tr th:only-of-type {\n",
       "        vertical-align: middle;\n",
       "    }\n",
       "\n",
       "    .dataframe tbody tr th {\n",
       "        vertical-align: top;\n",
       "    }\n",
       "\n",
       "    .dataframe thead th {\n",
       "        text-align: right;\n",
       "    }\n",
       "</style>\n",
       "<table border=\"1\" class=\"dataframe\">\n",
       "  <thead>\n",
       "    <tr style=\"text-align: right;\">\n",
       "      <th></th>\n",
       "      <th>cell_id</th>\n",
       "      <th>cell_type</th>\n",
       "      <th>firing_rate</th>\n",
       "      <th>ap_threshold</th>\n",
       "      <th>ap_duration</th>\n",
       "      <th>mean_vm</th>\n",
       "      <th>std_vm</th>\n",
       "      <th>fft_low</th>\n",
       "      <th>fft_high</th>\n",
       "    </tr>\n",
       "  </thead>\n",
       "  <tbody>\n",
       "    <tr>\n",
       "      <th>0</th>\n",
       "      <td>AP032_1</td>\n",
       "      <td>EXC</td>\n",
       "      <td>0.875000</td>\n",
       "      <td>-0.040795</td>\n",
       "      <td>0.608929</td>\n",
       "      <td>-0.064378</td>\n",
       "      <td>0.005948</td>\n",
       "      <td>0.000763</td>\n",
       "      <td>0.000070</td>\n",
       "    </tr>\n",
       "    <tr>\n",
       "      <th>1</th>\n",
       "      <td>AP032_2</td>\n",
       "      <td>EXC</td>\n",
       "      <td>1.857143</td>\n",
       "      <td>-0.040812</td>\n",
       "      <td>0.993269</td>\n",
       "      <td>-0.056189</td>\n",
       "      <td>0.005208</td>\n",
       "      <td>0.000635</td>\n",
       "      <td>0.000090</td>\n",
       "    </tr>\n",
       "    <tr>\n",
       "      <th>2</th>\n",
       "      <td>AP035_1</td>\n",
       "      <td>EXC</td>\n",
       "      <td>2.100000</td>\n",
       "      <td>-0.037562</td>\n",
       "      <td>0.786111</td>\n",
       "      <td>-0.058273</td>\n",
       "      <td>0.006374</td>\n",
       "      <td>0.000775</td>\n",
       "      <td>0.000053</td>\n",
       "    </tr>\n",
       "  </tbody>\n",
       "</table>\n",
       "</div>"
      ],
      "text/plain": [
       "   cell_id cell_type  firing_rate  ap_threshold  ap_duration   mean_vm  \\\n",
       "0  AP032_1       EXC     0.875000     -0.040795     0.608929 -0.064378   \n",
       "1  AP032_2       EXC     1.857143     -0.040812     0.993269 -0.056189   \n",
       "2  AP035_1       EXC     2.100000     -0.037562     0.786111 -0.058273   \n",
       "\n",
       "     std_vm   fft_low  fft_high  \n",
       "0  0.005948  0.000763  0.000070  \n",
       "1  0.005208  0.000635  0.000090  \n",
       "2  0.006374  0.000775  0.000053  "
      ]
     },
     "execution_count": 40,
     "metadata": {},
     "output_type": "execute_result"
    }
   ],
   "source": [
    "result_df = pd.DataFrame(result_dict)\n",
    "result_df.head(3)"
   ]
  },
  {
   "cell_type": "markdown",
   "metadata": {},
   "source": [
    "## Inspect and compute statistics per cell type\n",
    "We have a now a dictionary with different data for each cell. The `pd.DataFrame` function `describe()` provides summary statistics over the entire dataframe."
   ]
  },
  {
   "cell_type": "code",
   "execution_count": 41,
   "metadata": {},
   "outputs": [
    {
     "data": {
      "text/html": [
       "<div>\n",
       "<style scoped>\n",
       "    .dataframe tbody tr th:only-of-type {\n",
       "        vertical-align: middle;\n",
       "    }\n",
       "\n",
       "    .dataframe tbody tr th {\n",
       "        vertical-align: top;\n",
       "    }\n",
       "\n",
       "    .dataframe thead th {\n",
       "        text-align: right;\n",
       "    }\n",
       "</style>\n",
       "<table border=\"1\" class=\"dataframe\">\n",
       "  <thead>\n",
       "    <tr style=\"text-align: right;\">\n",
       "      <th></th>\n",
       "      <th>firing_rate</th>\n",
       "      <th>ap_threshold</th>\n",
       "      <th>ap_duration</th>\n",
       "      <th>mean_vm</th>\n",
       "      <th>std_vm</th>\n",
       "      <th>fft_low</th>\n",
       "      <th>fft_high</th>\n",
       "    </tr>\n",
       "  </thead>\n",
       "  <tbody>\n",
       "    <tr>\n",
       "      <th>count</th>\n",
       "      <td>232.000000</td>\n",
       "      <td>232.000000</td>\n",
       "      <td>230.000000</td>\n",
       "      <td>232.000000</td>\n",
       "      <td>232.000000</td>\n",
       "      <td>232.000000</td>\n",
       "      <td>232.000000</td>\n",
       "    </tr>\n",
       "    <tr>\n",
       "      <th>mean</th>\n",
       "      <td>10.291331</td>\n",
       "      <td>-0.040790</td>\n",
       "      <td>0.767249</td>\n",
       "      <td>-0.054247</td>\n",
       "      <td>0.005126</td>\n",
       "      <td>0.000643</td>\n",
       "      <td>0.000063</td>\n",
       "    </tr>\n",
       "    <tr>\n",
       "      <th>std</th>\n",
       "      <td>15.298859</td>\n",
       "      <td>0.003367</td>\n",
       "      <td>0.440015</td>\n",
       "      <td>0.005861</td>\n",
       "      <td>0.001553</td>\n",
       "      <td>0.000224</td>\n",
       "      <td>0.000023</td>\n",
       "    </tr>\n",
       "    <tr>\n",
       "      <th>min</th>\n",
       "      <td>0.000000</td>\n",
       "      <td>-0.048334</td>\n",
       "      <td>0.116667</td>\n",
       "      <td>-0.069672</td>\n",
       "      <td>0.001333</td>\n",
       "      <td>0.000153</td>\n",
       "      <td>0.000019</td>\n",
       "    </tr>\n",
       "    <tr>\n",
       "      <th>25%</th>\n",
       "      <td>1.133373</td>\n",
       "      <td>-0.042997</td>\n",
       "      <td>0.462953</td>\n",
       "      <td>-0.057528</td>\n",
       "      <td>0.003940</td>\n",
       "      <td>0.000479</td>\n",
       "      <td>0.000044</td>\n",
       "    </tr>\n",
       "    <tr>\n",
       "      <th>50%</th>\n",
       "      <td>4.270151</td>\n",
       "      <td>-0.040938</td>\n",
       "      <td>0.661604</td>\n",
       "      <td>-0.053780</td>\n",
       "      <td>0.005044</td>\n",
       "      <td>0.000629</td>\n",
       "      <td>0.000058</td>\n",
       "    </tr>\n",
       "    <tr>\n",
       "      <th>75%</th>\n",
       "      <td>14.412500</td>\n",
       "      <td>-0.039061</td>\n",
       "      <td>0.978438</td>\n",
       "      <td>-0.050454</td>\n",
       "      <td>0.006072</td>\n",
       "      <td>0.000779</td>\n",
       "      <td>0.000077</td>\n",
       "    </tr>\n",
       "    <tr>\n",
       "      <th>max</th>\n",
       "      <td>127.119565</td>\n",
       "      <td>-0.028422</td>\n",
       "      <td>2.439216</td>\n",
       "      <td>-0.038182</td>\n",
       "      <td>0.010189</td>\n",
       "      <td>0.001389</td>\n",
       "      <td>0.000130</td>\n",
       "    </tr>\n",
       "  </tbody>\n",
       "</table>\n",
       "</div>"
      ],
      "text/plain": [
       "       firing_rate  ap_threshold  ap_duration     mean_vm      std_vm  \\\n",
       "count   232.000000    232.000000   230.000000  232.000000  232.000000   \n",
       "mean     10.291331     -0.040790     0.767249   -0.054247    0.005126   \n",
       "std      15.298859      0.003367     0.440015    0.005861    0.001553   \n",
       "min       0.000000     -0.048334     0.116667   -0.069672    0.001333   \n",
       "25%       1.133373     -0.042997     0.462953   -0.057528    0.003940   \n",
       "50%       4.270151     -0.040938     0.661604   -0.053780    0.005044   \n",
       "75%      14.412500     -0.039061     0.978438   -0.050454    0.006072   \n",
       "max     127.119565     -0.028422     2.439216   -0.038182    0.010189   \n",
       "\n",
       "          fft_low    fft_high  \n",
       "count  232.000000  232.000000  \n",
       "mean     0.000643    0.000063  \n",
       "std      0.000224    0.000023  \n",
       "min      0.000153    0.000019  \n",
       "25%      0.000479    0.000044  \n",
       "50%      0.000629    0.000058  \n",
       "75%      0.000779    0.000077  \n",
       "max      0.001389    0.000130  "
      ]
     },
     "execution_count": 41,
     "metadata": {},
     "output_type": "execute_result"
    }
   ],
   "source": [
    "result_df.describe()"
   ]
  },
  {
   "cell_type": "markdown",
   "metadata": {},
   "source": [
    "We can also inspect per cell type, given that we included this information in `result`. Note that we can also group and show statistics using other categories."
   ]
  },
  {
   "cell_type": "code",
   "execution_count": 42,
   "metadata": {},
   "outputs": [
    {
     "data": {
      "text/html": [
       "<div>\n",
       "<style scoped>\n",
       "    .dataframe tbody tr th:only-of-type {\n",
       "        vertical-align: middle;\n",
       "    }\n",
       "\n",
       "    .dataframe tbody tr th {\n",
       "        vertical-align: top;\n",
       "    }\n",
       "\n",
       "    .dataframe thead tr th {\n",
       "        text-align: left;\n",
       "    }\n",
       "\n",
       "    .dataframe thead tr:last-of-type th {\n",
       "        text-align: right;\n",
       "    }\n",
       "</style>\n",
       "<table border=\"1\" class=\"dataframe\">\n",
       "  <thead>\n",
       "    <tr>\n",
       "      <th></th>\n",
       "      <th colspan=\"8\" halign=\"left\">firing_rate</th>\n",
       "      <th colspan=\"8\" halign=\"left\">ap_threshold</th>\n",
       "      <th colspan=\"8\" halign=\"left\">ap_duration</th>\n",
       "      <th colspan=\"8\" halign=\"left\">mean_vm</th>\n",
       "      <th colspan=\"8\" halign=\"left\">std_vm</th>\n",
       "      <th colspan=\"8\" halign=\"left\">fft_low</th>\n",
       "      <th colspan=\"8\" halign=\"left\">fft_high</th>\n",
       "    </tr>\n",
       "    <tr>\n",
       "      <th></th>\n",
       "      <th>count</th>\n",
       "      <th>mean</th>\n",
       "      <th>std</th>\n",
       "      <th>min</th>\n",
       "      <th>25%</th>\n",
       "      <th>50%</th>\n",
       "      <th>75%</th>\n",
       "      <th>max</th>\n",
       "      <th>count</th>\n",
       "      <th>mean</th>\n",
       "      <th>std</th>\n",
       "      <th>min</th>\n",
       "      <th>25%</th>\n",
       "      <th>50%</th>\n",
       "      <th>75%</th>\n",
       "      <th>max</th>\n",
       "      <th>count</th>\n",
       "      <th>mean</th>\n",
       "      <th>std</th>\n",
       "      <th>min</th>\n",
       "      <th>25%</th>\n",
       "      <th>50%</th>\n",
       "      <th>75%</th>\n",
       "      <th>max</th>\n",
       "      <th>count</th>\n",
       "      <th>mean</th>\n",
       "      <th>std</th>\n",
       "      <th>min</th>\n",
       "      <th>25%</th>\n",
       "      <th>50%</th>\n",
       "      <th>75%</th>\n",
       "      <th>max</th>\n",
       "      <th>count</th>\n",
       "      <th>mean</th>\n",
       "      <th>std</th>\n",
       "      <th>min</th>\n",
       "      <th>25%</th>\n",
       "      <th>50%</th>\n",
       "      <th>75%</th>\n",
       "      <th>max</th>\n",
       "      <th>count</th>\n",
       "      <th>mean</th>\n",
       "      <th>std</th>\n",
       "      <th>min</th>\n",
       "      <th>25%</th>\n",
       "      <th>50%</th>\n",
       "      <th>75%</th>\n",
       "      <th>max</th>\n",
       "      <th>count</th>\n",
       "      <th>mean</th>\n",
       "      <th>std</th>\n",
       "      <th>min</th>\n",
       "      <th>25%</th>\n",
       "      <th>50%</th>\n",
       "      <th>75%</th>\n",
       "      <th>max</th>\n",
       "    </tr>\n",
       "    <tr>\n",
       "      <th>cell_type</th>\n",
       "      <th></th>\n",
       "      <th></th>\n",
       "      <th></th>\n",
       "      <th></th>\n",
       "      <th></th>\n",
       "      <th></th>\n",
       "      <th></th>\n",
       "      <th></th>\n",
       "      <th></th>\n",
       "      <th></th>\n",
       "      <th></th>\n",
       "      <th></th>\n",
       "      <th></th>\n",
       "      <th></th>\n",
       "      <th></th>\n",
       "      <th></th>\n",
       "      <th></th>\n",
       "      <th></th>\n",
       "      <th></th>\n",
       "      <th></th>\n",
       "      <th></th>\n",
       "      <th></th>\n",
       "      <th></th>\n",
       "      <th></th>\n",
       "      <th></th>\n",
       "      <th></th>\n",
       "      <th></th>\n",
       "      <th></th>\n",
       "      <th></th>\n",
       "      <th></th>\n",
       "      <th></th>\n",
       "      <th></th>\n",
       "      <th></th>\n",
       "      <th></th>\n",
       "      <th></th>\n",
       "      <th></th>\n",
       "      <th></th>\n",
       "      <th></th>\n",
       "      <th></th>\n",
       "      <th></th>\n",
       "      <th></th>\n",
       "      <th></th>\n",
       "      <th></th>\n",
       "      <th></th>\n",
       "      <th></th>\n",
       "      <th></th>\n",
       "      <th></th>\n",
       "      <th></th>\n",
       "      <th></th>\n",
       "      <th></th>\n",
       "      <th></th>\n",
       "      <th></th>\n",
       "      <th></th>\n",
       "      <th></th>\n",
       "      <th></th>\n",
       "      <th></th>\n",
       "    </tr>\n",
       "  </thead>\n",
       "  <tbody>\n",
       "    <tr>\n",
       "      <th>EXC</th>\n",
       "      <td>86.0</td>\n",
       "      <td>1.822975</td>\n",
       "      <td>2.298222</td>\n",
       "      <td>0.000000</td>\n",
       "      <td>0.320833</td>\n",
       "      <td>0.862500</td>\n",
       "      <td>2.766532</td>\n",
       "      <td>11.650000</td>\n",
       "      <td>86.0</td>\n",
       "      <td>-0.039869</td>\n",
       "      <td>0.003557</td>\n",
       "      <td>-0.046335</td>\n",
       "      <td>-0.042038</td>\n",
       "      <td>-0.040294</td>\n",
       "      <td>-0.038336</td>\n",
       "      <td>-0.028422</td>\n",
       "      <td>84.0</td>\n",
       "      <td>1.073068</td>\n",
       "      <td>0.455177</td>\n",
       "      <td>0.116667</td>\n",
       "      <td>0.792743</td>\n",
       "      <td>0.975480</td>\n",
       "      <td>1.338248</td>\n",
       "      <td>2.439216</td>\n",
       "      <td>86.0</td>\n",
       "      <td>-0.058215</td>\n",
       "      <td>0.005977</td>\n",
       "      <td>-0.069672</td>\n",
       "      <td>-0.062525</td>\n",
       "      <td>-0.058026</td>\n",
       "      <td>-0.054594</td>\n",
       "      <td>-0.038375</td>\n",
       "      <td>86.0</td>\n",
       "      <td>0.005337</td>\n",
       "      <td>0.001179</td>\n",
       "      <td>0.002618</td>\n",
       "      <td>0.004543</td>\n",
       "      <td>0.005329</td>\n",
       "      <td>0.006050</td>\n",
       "      <td>0.008932</td>\n",
       "      <td>86.0</td>\n",
       "      <td>0.000687</td>\n",
       "      <td>0.000169</td>\n",
       "      <td>0.000331</td>\n",
       "      <td>0.000560</td>\n",
       "      <td>0.000683</td>\n",
       "      <td>0.000782</td>\n",
       "      <td>0.001091</td>\n",
       "      <td>86.0</td>\n",
       "      <td>0.000054</td>\n",
       "      <td>0.000018</td>\n",
       "      <td>0.000019</td>\n",
       "      <td>0.000042</td>\n",
       "      <td>0.000052</td>\n",
       "      <td>0.000065</td>\n",
       "      <td>0.000096</td>\n",
       "    </tr>\n",
       "    <tr>\n",
       "      <th>PV</th>\n",
       "      <td>49.0</td>\n",
       "      <td>29.343396</td>\n",
       "      <td>21.821187</td>\n",
       "      <td>2.083333</td>\n",
       "      <td>16.486486</td>\n",
       "      <td>27.152174</td>\n",
       "      <td>34.833333</td>\n",
       "      <td>127.119565</td>\n",
       "      <td>49.0</td>\n",
       "      <td>-0.041382</td>\n",
       "      <td>0.002356</td>\n",
       "      <td>-0.045868</td>\n",
       "      <td>-0.043008</td>\n",
       "      <td>-0.041307</td>\n",
       "      <td>-0.039693</td>\n",
       "      <td>-0.034840</td>\n",
       "      <td>49.0</td>\n",
       "      <td>0.372908</td>\n",
       "      <td>0.135135</td>\n",
       "      <td>0.162334</td>\n",
       "      <td>0.286229</td>\n",
       "      <td>0.346137</td>\n",
       "      <td>0.429584</td>\n",
       "      <td>0.773966</td>\n",
       "      <td>49.0</td>\n",
       "      <td>-0.052489</td>\n",
       "      <td>0.003800</td>\n",
       "      <td>-0.060553</td>\n",
       "      <td>-0.055180</td>\n",
       "      <td>-0.052712</td>\n",
       "      <td>-0.050498</td>\n",
       "      <td>-0.041178</td>\n",
       "      <td>49.0</td>\n",
       "      <td>0.006238</td>\n",
       "      <td>0.001519</td>\n",
       "      <td>0.003351</td>\n",
       "      <td>0.005151</td>\n",
       "      <td>0.006106</td>\n",
       "      <td>0.006926</td>\n",
       "      <td>0.009964</td>\n",
       "      <td>49.0</td>\n",
       "      <td>0.000804</td>\n",
       "      <td>0.000247</td>\n",
       "      <td>0.000381</td>\n",
       "      <td>0.000641</td>\n",
       "      <td>0.000765</td>\n",
       "      <td>0.000948</td>\n",
       "      <td>0.001389</td>\n",
       "      <td>49.0</td>\n",
       "      <td>0.000093</td>\n",
       "      <td>0.000017</td>\n",
       "      <td>0.000043</td>\n",
       "      <td>0.000082</td>\n",
       "      <td>0.000095</td>\n",
       "      <td>0.000104</td>\n",
       "      <td>0.000130</td>\n",
       "    </tr>\n",
       "    <tr>\n",
       "      <th>SST</th>\n",
       "      <td>72.0</td>\n",
       "      <td>6.597538</td>\n",
       "      <td>6.313915</td>\n",
       "      <td>0.382353</td>\n",
       "      <td>2.354167</td>\n",
       "      <td>4.464943</td>\n",
       "      <td>7.801087</td>\n",
       "      <td>30.384615</td>\n",
       "      <td>72.0</td>\n",
       "      <td>-0.041763</td>\n",
       "      <td>0.003158</td>\n",
       "      <td>-0.048334</td>\n",
       "      <td>-0.043603</td>\n",
       "      <td>-0.041913</td>\n",
       "      <td>-0.039583</td>\n",
       "      <td>-0.034625</td>\n",
       "      <td>72.0</td>\n",
       "      <td>0.637514</td>\n",
       "      <td>0.294848</td>\n",
       "      <td>0.250549</td>\n",
       "      <td>0.470131</td>\n",
       "      <td>0.575098</td>\n",
       "      <td>0.705945</td>\n",
       "      <td>1.907738</td>\n",
       "      <td>72.0</td>\n",
       "      <td>-0.052026</td>\n",
       "      <td>0.004456</td>\n",
       "      <td>-0.063655</td>\n",
       "      <td>-0.055150</td>\n",
       "      <td>-0.051752</td>\n",
       "      <td>-0.048911</td>\n",
       "      <td>-0.043044</td>\n",
       "      <td>72.0</td>\n",
       "      <td>0.004017</td>\n",
       "      <td>0.000994</td>\n",
       "      <td>0.002298</td>\n",
       "      <td>0.003335</td>\n",
       "      <td>0.003736</td>\n",
       "      <td>0.004577</td>\n",
       "      <td>0.006885</td>\n",
       "      <td>72.0</td>\n",
       "      <td>0.000481</td>\n",
       "      <td>0.000134</td>\n",
       "      <td>0.000285</td>\n",
       "      <td>0.000386</td>\n",
       "      <td>0.000455</td>\n",
       "      <td>0.000540</td>\n",
       "      <td>0.000926</td>\n",
       "      <td>72.0</td>\n",
       "      <td>0.000056</td>\n",
       "      <td>0.000017</td>\n",
       "      <td>0.000028</td>\n",
       "      <td>0.000043</td>\n",
       "      <td>0.000051</td>\n",
       "      <td>0.000068</td>\n",
       "      <td>0.000102</td>\n",
       "    </tr>\n",
       "    <tr>\n",
       "      <th>VIP</th>\n",
       "      <td>25.0</td>\n",
       "      <td>12.718557</td>\n",
       "      <td>10.894143</td>\n",
       "      <td>0.005208</td>\n",
       "      <td>5.643333</td>\n",
       "      <td>7.483333</td>\n",
       "      <td>18.683333</td>\n",
       "      <td>41.700000</td>\n",
       "      <td>25.0</td>\n",
       "      <td>-0.039998</td>\n",
       "      <td>0.004058</td>\n",
       "      <td>-0.045422</td>\n",
       "      <td>-0.043840</td>\n",
       "      <td>-0.039914</td>\n",
       "      <td>-0.037786</td>\n",
       "      <td>-0.029954</td>\n",
       "      <td>25.0</td>\n",
       "      <td>0.886243</td>\n",
       "      <td>0.356503</td>\n",
       "      <td>0.514782</td>\n",
       "      <td>0.617245</td>\n",
       "      <td>0.802230</td>\n",
       "      <td>1.026439</td>\n",
       "      <td>2.182439</td>\n",
       "      <td>25.0</td>\n",
       "      <td>-0.050440</td>\n",
       "      <td>0.004883</td>\n",
       "      <td>-0.058287</td>\n",
       "      <td>-0.053417</td>\n",
       "      <td>-0.052047</td>\n",
       "      <td>-0.047169</td>\n",
       "      <td>-0.038182</td>\n",
       "      <td>25.0</td>\n",
       "      <td>0.005410</td>\n",
       "      <td>0.002072</td>\n",
       "      <td>0.001333</td>\n",
       "      <td>0.004271</td>\n",
       "      <td>0.005674</td>\n",
       "      <td>0.006800</td>\n",
       "      <td>0.010189</td>\n",
       "      <td>25.0</td>\n",
       "      <td>0.000646</td>\n",
       "      <td>0.000259</td>\n",
       "      <td>0.000153</td>\n",
       "      <td>0.000512</td>\n",
       "      <td>0.000646</td>\n",
       "      <td>0.000785</td>\n",
       "      <td>0.001063</td>\n",
       "      <td>25.0</td>\n",
       "      <td>0.000054</td>\n",
       "      <td>0.000020</td>\n",
       "      <td>0.000020</td>\n",
       "      <td>0.000044</td>\n",
       "      <td>0.000050</td>\n",
       "      <td>0.000068</td>\n",
       "      <td>0.000105</td>\n",
       "    </tr>\n",
       "  </tbody>\n",
       "</table>\n",
       "</div>"
      ],
      "text/plain": [
       "          firing_rate                                                        \\\n",
       "                count       mean        std       min        25%        50%   \n",
       "cell_type                                                                     \n",
       "EXC              86.0   1.822975   2.298222  0.000000   0.320833   0.862500   \n",
       "PV               49.0  29.343396  21.821187  2.083333  16.486486  27.152174   \n",
       "SST              72.0   6.597538   6.313915  0.382353   2.354167   4.464943   \n",
       "VIP              25.0  12.718557  10.894143  0.005208   5.643333   7.483333   \n",
       "\n",
       "                                 ap_threshold                                \\\n",
       "                 75%         max        count      mean       std       min   \n",
       "cell_type                                                                     \n",
       "EXC         2.766532   11.650000         86.0 -0.039869  0.003557 -0.046335   \n",
       "PV         34.833333  127.119565         49.0 -0.041382  0.002356 -0.045868   \n",
       "SST         7.801087   30.384615         72.0 -0.041763  0.003158 -0.048334   \n",
       "VIP        18.683333   41.700000         25.0 -0.039998  0.004058 -0.045422   \n",
       "\n",
       "                                                  ap_duration            \\\n",
       "                25%       50%       75%       max       count      mean   \n",
       "cell_type                                                                 \n",
       "EXC       -0.042038 -0.040294 -0.038336 -0.028422        84.0  1.073068   \n",
       "PV        -0.043008 -0.041307 -0.039693 -0.034840        49.0  0.372908   \n",
       "SST       -0.043603 -0.041913 -0.039583 -0.034625        72.0  0.637514   \n",
       "VIP       -0.043840 -0.039914 -0.037786 -0.029954        25.0  0.886243   \n",
       "\n",
       "                                                                      mean_vm  \\\n",
       "                std       min       25%       50%       75%       max   count   \n",
       "cell_type                                                                       \n",
       "EXC        0.455177  0.116667  0.792743  0.975480  1.338248  2.439216    86.0   \n",
       "PV         0.135135  0.162334  0.286229  0.346137  0.429584  0.773966    49.0   \n",
       "SST        0.294848  0.250549  0.470131  0.575098  0.705945  1.907738    72.0   \n",
       "VIP        0.356503  0.514782  0.617245  0.802230  1.026439  2.182439    25.0   \n",
       "\n",
       "                                                                       \\\n",
       "               mean       std       min       25%       50%       75%   \n",
       "cell_type                                                               \n",
       "EXC       -0.058215  0.005977 -0.069672 -0.062525 -0.058026 -0.054594   \n",
       "PV        -0.052489  0.003800 -0.060553 -0.055180 -0.052712 -0.050498   \n",
       "SST       -0.052026  0.004456 -0.063655 -0.055150 -0.051752 -0.048911   \n",
       "VIP       -0.050440  0.004883 -0.058287 -0.053417 -0.052047 -0.047169   \n",
       "\n",
       "                    std_vm                                                    \\\n",
       "                max  count      mean       std       min       25%       50%   \n",
       "cell_type                                                                      \n",
       "EXC       -0.038375   86.0  0.005337  0.001179  0.002618  0.004543  0.005329   \n",
       "PV        -0.041178   49.0  0.006238  0.001519  0.003351  0.005151  0.006106   \n",
       "SST       -0.043044   72.0  0.004017  0.000994  0.002298  0.003335  0.003736   \n",
       "VIP       -0.038182   25.0  0.005410  0.002072  0.001333  0.004271  0.005674   \n",
       "\n",
       "                              fft_low                                          \\\n",
       "                75%       max   count      mean       std       min       25%   \n",
       "cell_type                                                                       \n",
       "EXC        0.006050  0.008932    86.0  0.000687  0.000169  0.000331  0.000560   \n",
       "PV         0.006926  0.009964    49.0  0.000804  0.000247  0.000381  0.000641   \n",
       "SST        0.004577  0.006885    72.0  0.000481  0.000134  0.000285  0.000386   \n",
       "VIP        0.006800  0.010189    25.0  0.000646  0.000259  0.000153  0.000512   \n",
       "\n",
       "                                        fft_high                      \\\n",
       "                50%       75%       max    count      mean       std   \n",
       "cell_type                                                              \n",
       "EXC        0.000683  0.000782  0.001091     86.0  0.000054  0.000018   \n",
       "PV         0.000765  0.000948  0.001389     49.0  0.000093  0.000017   \n",
       "SST        0.000455  0.000540  0.000926     72.0  0.000056  0.000017   \n",
       "VIP        0.000646  0.000785  0.001063     25.0  0.000054  0.000020   \n",
       "\n",
       "                                                             \n",
       "                min       25%       50%       75%       max  \n",
       "cell_type                                                    \n",
       "EXC        0.000019  0.000042  0.000052  0.000065  0.000096  \n",
       "PV         0.000043  0.000082  0.000095  0.000104  0.000130  \n",
       "SST        0.000028  0.000043  0.000051  0.000068  0.000102  \n",
       "VIP        0.000020  0.000044  0.000050  0.000068  0.000105  "
      ]
     },
     "execution_count": 42,
     "metadata": {},
     "output_type": "execute_result"
    }
   ],
   "source": [
    "pd.set_option('display.max_columns', None) #this is just to print all columns\n",
    "result_df.groupby('cell_type').describe()"
   ]
  },
  {
   "cell_type": "markdown",
   "metadata": {},
   "source": [
    "# Plots\n",
    "Let's just define a dictionary for color coding cell classes, and a list to keep cell type order fixed:"
   ]
  },
  {
   "cell_type": "code",
   "execution_count": 44,
   "metadata": {},
   "outputs": [],
   "source": [
    "class_color = {'EXC':'k',\n",
    "               'PV':'red',\n",
    "               'SST':'gold',\n",
    "               'VIP':'blue'} \n",
    "cell_class_order = ['EXC', 'PV', 'SST', 'VIP']"
   ]
  },
  {
   "cell_type": "markdown",
   "metadata": {},
   "source": [
    "The advantage of using `pd.DataFrame` is that we can use the library `seaborn`, which allow for fast and clear visualization. However, for more customized figures, seaborn sometimes makes things complicated. "
   ]
  },
  {
   "cell_type": "code",
   "execution_count": 45,
   "metadata": {},
   "outputs": [],
   "source": [
    "import seaborn as sns"
   ]
  },
  {
   "cell_type": "code",
   "execution_count": 46,
   "metadata": {},
   "outputs": [
    {
     "data": {
      "text/plain": [
       "Text(0.5, 1.0, 'Mean firing rate - free whisking')"
      ]
     },
     "execution_count": 46,
     "metadata": {},
     "output_type": "execute_result"
    },
    {
     "data": {
      "image/png": "[encoded data removed]",
      "text/plain": [
       "<Figure size 600x400 with 1 Axes>"
      ]
     },
     "metadata": {
      "needs_background": "light"
     },
     "output_type": "display_data"
    }
   ],
   "source": [
    "fig, ax = plt.subplots(1,1,figsize=(6,4), dpi=100) #define 1x1 figure layout \n",
    "remove_top_right_frame(ax)\n",
    "\n",
    "# Plot individual data points\n",
    "sns.stripplot(data=result_df,\n",
    "                ax=ax,\n",
    "                x='cell_type',\n",
    "                y='firing_rate',\n",
    "                order=cell_class_order,\n",
    "                color='k',\n",
    "                s=2,\n",
    "                alpha=0.5,\n",
    "                zorder=0)\n",
    "\n",
    "# Plot mean and standard deviation\n",
    "sns.pointplot(data=result_df,\n",
    "                ax=ax,\n",
    "                x='cell_type',\n",
    "                y='firing_rate',\n",
    "                order=cell_class_order,\n",
    "                palette=class_color,\n",
    "                estimator=np.mean,\n",
    "                ci='sd',\n",
    "                markers='.',\n",
    "                join=False,\n",
    "                scale=1,\n",
    "                errwidth=1.5,\n",
    "                capsize=0.1, \n",
    "                zorder=0)\n",
    "\n",
    "# Specify axes\n",
    "plt.legend([],[], frameon=False)\n",
    "ax.set_xlabel('Cell class')\n",
    "ax.set_ylabel('Firing rate (Hz)')\n",
    "ax.set_title('Mean firing rate - free whisking')"
   ]
  },
  {
   "cell_type": "markdown",
   "metadata": {},
   "source": [
    "## Compare mean firing rates across cells and cell types"
   ]
  },
  {
   "cell_type": "markdown",
   "metadata": {},
   "source": [
    "- However, for more customized figures, seaborn sometimes makes things complicated. \n",
    "- Here, we would like individual observations to be shifted relative to the errorbar, which we cannot easily do with seaborn. With matplotlib alone, we can do like this:"
   ]
  },
  {
   "cell_type": "code",
   "execution_count": 47,
   "metadata": {
    "colab": {
     "base_uri": "https://localhost:8080/",
     "height": 295
    },
    "id": "ScxZKeKRfJk-",
    "outputId": "99fcd60a-1b4e-47bb-a150-690ba9409b90"
   },
   "outputs": [
    {
     "data": {
      "image/png": "[encoded data removed]",
      "text/plain": [
       "<Figure size 600x400 with 1 Axes>"
      ]
     },
     "metadata": {
      "needs_background": "light"
     },
     "output_type": "display_data"
    }
   ],
   "source": [
    "# Define figure\n",
    "fig, ax = plt.subplots(nrows=1,ncols=1,figsize=(6,4), dpi=100)\n",
    "remove_top_right_frame(ax)\n",
    "\n",
    "# Iterate over cell class\n",
    "for i, c_type in enumerate(cell_class_order):\n",
    "    \n",
    "    n_cells = len(result_df[result_df.cell_type==c_type])\n",
    "    obs_locations = [i]*n_cells #create a list int, to place observations categorically\n",
    "    obs_values = result_df[result_df.cell_type==c_type]['firing_rate'].values\n",
    "    \n",
    "    # Show individual observations (scatterplot with added x-axis jitter to avoid overplotting)\n",
    "    jitter_scatterplot(x=obs_locations, \n",
    "                       y=obs_values,\n",
    "                       s=3, \n",
    "                       alpha=0.5, \n",
    "                       c=class_color[c_type])\n",
    "    \n",
    "    # Show mean and standard deviation\n",
    "    ax.errorbar(x=i+0.2,\n",
    "                 y=np.mean(obs_values),\n",
    "                 yerr=np.std(obs_values), #errobarsize is standard deviation\n",
    "                 marker='o', \n",
    "                 ms=10, \n",
    "                 capsize=5, \n",
    "                 fillstyle='none',\n",
    "                 alpha=0.9, \n",
    "                 c=class_color[c_type])\n",
    "    \n",
    "# Set xtick labels and legend\n",
    "ax.set_xticks([0,1,2,3])\n",
    "ax.set_xticklabels(cell_class_order)\n",
    "ax.set_xlabel('Cell class')\n",
    "ax.set_ylabel('Firing rate (Hz)')\n",
    "ax.set_title('Mean firing rate - free whisking')\n",
    "\n",
    "# Save figure\n",
    "fname = os.path.join(figure_path, 'mean_firing_rate_free_whisking.png')\n",
    "plt.savefig(fname=fname, dpi='figure', format='png', bbox_inches='tight')\n",
    "    "
   ]
  },
  {
   "cell_type": "markdown",
   "metadata": {},
   "source": [
    "## Compare mean action potential duration across cells and cell types"
   ]
  },
  {
   "cell_type": "code",
   "execution_count": 48,
   "metadata": {},
   "outputs": [
    {
     "data": {
      "image/png": "[encoded data removed]",
      "text/plain": [
       "<Figure size 600x400 with 1 Axes>"
      ]
     },
     "metadata": {
      "needs_background": "light"
     },
     "output_type": "display_data"
    }
   ],
   "source": [
    "# Define figure\n",
    "fig, ax = plt.subplots(nrows=1,ncols=1,figsize=(6,4), dpi=100)\n",
    "remove_top_right_frame(ax)\n",
    "\n",
    "# Iterate over cell class\n",
    "for i, c_type in enumerate(cell_class_order):\n",
    "    \n",
    "    n_cells = len(result_df[result_df.cell_type==c_type])\n",
    "    obs_locations = [i]*n_cells #create a list int, to place observations categorically\n",
    "    obs_values = result_df[result_df.cell_type==c_type]['ap_duration'].values\n",
    "    \n",
    "    # Show individual observations (scatterplot with added x-axis jitter to avoid overplotting)\n",
    "    jitter_scatterplot(x=obs_locations, \n",
    "                       y=obs_values,\n",
    "                       s=3, \n",
    "                       alpha=0.5, \n",
    "                       c=class_color[c_type])\n",
    "    \n",
    "    # Show mean and standard deviation\n",
    "    ax.errorbar(x=i+0.2,\n",
    "                 y=np.nanmean(obs_values),\n",
    "                 yerr=np.nanstd(obs_values), #errobarsize is standard deviation\n",
    "                 marker='o', \n",
    "                 ms=10, \n",
    "                 capsize=5, \n",
    "                 fillstyle='none',\n",
    "                 alpha=0.9, \n",
    "                 c=class_color[c_type])\n",
    "    \n",
    "# Set xtick labels and legend\n",
    "ax.set_xticks([0,1,2,3])\n",
    "ax.set_xticklabels(cell_class_order)\n",
    "ax.set_xlabel('Cell class')\n",
    "ax.set_ylabel('AP duration (ms)')\n",
    "ax.set_title('Mean AP duration - free whisking')\n",
    "    \n",
    "    \n",
    "# Save figure\n",
    "fname = os.path.join(figure_path, 'mean_ap_duration_free_whisking.png')\n",
    "plt.savefig(fname=fname, dpi='figure', format='png', bbox_inches='tight')\n",
    "       \n"
   ]
  },
  {
   "cell_type": "markdown",
   "metadata": {},
   "source": [
    "## Compare mean firing rate with AP duration across cells and cell types"
   ]
  },
  {
   "cell_type": "markdown",
   "metadata": {},
   "source": [
    "We import a model class from `scikit-learn`, a standard machine learning library:"
   ]
  },
  {
   "cell_type": "code",
   "execution_count": 49,
   "metadata": {},
   "outputs": [],
   "source": [
    "from sklearn.linear_model import LinearRegression "
   ]
  },
  {
   "cell_type": "code",
   "execution_count": 50,
   "metadata": {
    "colab": {
     "base_uri": "https://localhost:8080/",
     "height": 295
    },
    "id": "XjT4MdxAi2db",
    "outputId": "f695731e-d7a4-4bbb-f76c-e73bd21248e3"
   },
   "outputs": [
    {
     "data": {
      "image/png": "[encoded data removed]",
      "text/plain": [
       "<Figure size 600x400 with 1 Axes>"
      ]
     },
     "metadata": {
      "needs_background": "light"
     },
     "output_type": "display_data"
    }
   ],
   "source": [
    "# Define figure\n",
    "fig, ax = plt.subplots(nrows=1,ncols=1,figsize=(6,4), dpi=100)\n",
    "remove_top_right_frame(ax)\n",
    "\n",
    "# Plot data \n",
    "for i, c_type in enumerate(cell_class_order):\n",
    "    \n",
    "    data_fr = result_df[result_df.cell_type==c_type]['firing_rate'].values\n",
    "    data_ap_dur = result_df[result_df.cell_type==c_type]['ap_duration'].values\n",
    "    \n",
    "    ax.scatter(x=data_ap_dur, \n",
    "               y=data_fr,\n",
    "               s=5, \n",
    "               alpha=0.5, \n",
    "               c=class_color[c_type])\n",
    "\n",
    "# Axes\n",
    "ax.set_xlabel('AP duration, AP$_d$ (ms)')\n",
    "ax.set_ylabel('Firing rate (Hz)')\n",
    "ax.set_title('Firing rate vs. AP duration - free whisking')\n",
    "    \n",
    "    \n",
    "# Fit linear regression model and plot regression line\n",
    "data_fr_all = result_df['firing_rate'].values\n",
    "data_ap_dur_all = result_df['ap_duration'].values\n",
    "nan_ids = np.isnan(data_fr_all) + np.isnan(data_ap_dur_all) #finding NaNs \n",
    "\n",
    "model = LinearRegression().fit(X=data_ap_dur_all[~nan_ids].reshape(-1, 1), #must be 2D \n",
    "                               y=data_fr_all[~nan_ids])\n",
    "x_range = np.array(plt.xlim())\n",
    "y_fit = model.intercept_ + model.coef_[0] * x_range\n",
    "\n",
    "ax.plot(x_range, \n",
    "        y_fit, \n",
    "        ls='--', \n",
    "        linewidth=2,\n",
    "        color='k',\n",
    "        label='fitted line: \\n FR = {:.2f} AP$_d$+{:.2f}'.format(model.coef_[0], model.intercept_), \n",
    "        alpha=0.8)\n",
    "ax.legend(frameon=False)\n",
    "\n",
    "# Save figure\n",
    "fname = os.path.join(figure_path, 'mean_firingrate_vs_apduration_free_whisking.png')\n",
    "plt.savefig(fname=fname, dpi='figure', format='png', bbox_inches='tight')"
   ]
  },
  {
   "cell_type": "markdown",
   "metadata": {},
   "source": [
    "Or with seaborn:"
   ]
  },
  {
   "cell_type": "code",
   "execution_count": 51,
   "metadata": {},
   "outputs": [
    {
     "data": {
      "text/plain": [
       "<matplotlib.legend.Legend at 0x7f88f10339d0>"
      ]
     },
     "execution_count": 51,
     "metadata": {},
     "output_type": "execute_result"
    },
    {
     "data": {
      "image/png": "[encoded data removed]",
      "text/plain": [
       "<Figure size 600x400 with 1 Axes>"
      ]
     },
     "metadata": {
      "needs_background": "light"
     },
     "output_type": "display_data"
    }
   ],
   "source": [
    "# Define figure\n",
    "fig, ax = plt.subplots(nrows=1,ncols=1,figsize=(6,4), dpi=100)\n",
    "remove_top_right_frame(ax)\n",
    "\n",
    "sns.scatterplot(data=result_df,\n",
    "                ax=ax,\n",
    "               x='ap_duration',\n",
    "               y='firing_rate',\n",
    "               hue='cell_type',\n",
    "               hue_order=cell_class_order,\n",
    "               palette=class_color,\n",
    "               ec=None,\n",
    "                s=10,\n",
    "               alpha=0.8)\n",
    "\n",
    "# Axes\n",
    "ax.set_xlabel('AP duration, AP$_d$ (ms)')\n",
    "ax.set_ylabel('Firing rate (Hz)')\n",
    "ax.set_title('Firing rate vs. AP duration - free whisking')\n",
    "ax.legend(frameon=False)"
   ]
  },
  {
   "cell_type": "markdown",
   "metadata": {},
   "source": [
    "## Mean membrane potential Vm per cell type"
   ]
  },
  {
   "cell_type": "code",
   "execution_count": 52,
   "metadata": {},
   "outputs": [
    {
     "data": {
      "image/png": "[encoded data removed]",
      "text/plain": [
       "<Figure size 600x400 with 1 Axes>"
      ]
     },
     "metadata": {
      "needs_background": "light"
     },
     "output_type": "display_data"
    }
   ],
   "source": [
    "# Define figure\n",
    "fig, ax = plt.subplots(nrows=1,ncols=1,figsize=(6,4), dpi=100)\n",
    "remove_top_right_frame(ax)\n",
    "\n",
    "# Iterate over cell class\n",
    "for i, c_type in enumerate(cell_class_order):\n",
    "    \n",
    "    n_cells = len(result_df[result_df.cell_type==c_type])\n",
    "    obs_locations = [i]*n_cells #create a list int, to place observations categorically\n",
    "    obs_values = result_df[result_df.cell_type==c_type]['mean_vm'].values * 1000 #in mV\n",
    "    \n",
    "    # Show individual observations (scatterplot with added x-axis jitter to avoid overplotting)\n",
    "    jitter_scatterplot(x=obs_locations, \n",
    "                       y=obs_values,\n",
    "                       s=3, \n",
    "                       alpha=0.5, \n",
    "                       c=class_color[c_type])\n",
    "    \n",
    "    # Show mean and standard deviation\n",
    "    ax.errorbar(x=i+0.2,\n",
    "                 y=np.nanmean(obs_values),\n",
    "                 yerr=np.nanstd(obs_values), #errobarsize is standard deviation\n",
    "                 marker='o', \n",
    "                 ms=10, \n",
    "                 capsize=5, \n",
    "                 fillstyle='none',\n",
    "                 alpha=0.9, \n",
    "                 c=class_color[c_type])\n",
    "    \n",
    "# Set xtick labels and legend\n",
    "ax.set_xticks([0,1,2,3])\n",
    "ax.set_xticklabels(cell_class_order)\n",
    "ax.set_xlabel('Cell class')\n",
    "ax.set_ylabel('Membrane potential, Vm (mV)')\n",
    "ax.set_title('Mean Vm - free whisking')\n",
    "    \n",
    "    \n",
    "# Save figure\n",
    "fname = os.path.join(figure_path, 'mean_vm_free_whisking.png')\n",
    "plt.savefig(fname=fname, dpi='figure', format='png', bbox_inches='tight')\n",
    "       \n"
   ]
  },
  {
   "cell_type": "markdown",
   "metadata": {},
   "source": [
    "### Mean SD of the Vm per cell type"
   ]
  },
  {
   "cell_type": "code",
   "execution_count": 53,
   "metadata": {},
   "outputs": [
    {
     "data": {
      "image/png": "[encoded data removed]",
      "text/plain": [
       "<Figure size 600x400 with 1 Axes>"
      ]
     },
     "metadata": {
      "needs_background": "light"
     },
     "output_type": "display_data"
    }
   ],
   "source": [
    "# Define figure\n",
    "fig, ax = plt.subplots(nrows=1,ncols=1,figsize=(6,4), dpi=100)\n",
    "remove_top_right_frame(ax)\n",
    "\n",
    "# Iterate over cell class\n",
    "for i, c_type in enumerate(cell_class_order):\n",
    "    \n",
    "    n_cells = len(result_df[result_df.cell_type==c_type])\n",
    "    obs_locations = [i]*n_cells #create a list int, to place observations categorically\n",
    "    obs_values = result_df[result_df.cell_type==c_type]['std_vm'].values * 1000 #in mV\n",
    "    \n",
    "    # Show individual observations (scatterplot with added x-axis jitter to avoid overplotting)\n",
    "    jitter_scatterplot(x=obs_locations, \n",
    "                       y=obs_values,\n",
    "                       s=3, \n",
    "                       alpha=0.5, \n",
    "                       c=class_color[c_type])\n",
    "    \n",
    "    # Show mean and standard deviation\n",
    "    ax.errorbar(x=i+0.2,\n",
    "                 y=np.nanmean(obs_values),\n",
    "                 yerr=np.nanstd(obs_values), #errobarsize is standard deviation\n",
    "                 marker='o', \n",
    "                 ms=10, \n",
    "                 capsize=5, \n",
    "                 fillstyle='none',\n",
    "                 alpha=0.9, \n",
    "                 c=class_color[c_type])\n",
    "    \n",
    "# Set xtick labels and legend\n",
    "ax.set_xticks([0,1,2,3])\n",
    "ax.set_xticklabels(cell_class_order)\n",
    "ax.set_xlabel('Cell class')\n",
    "ax.set_ylabel('SD of Vm (mV)')\n",
    "ax.set_title('SD of Vm - free whisking')\n",
    "    \n",
    "    \n",
    "# Save figure\n",
    "fname = os.path.join(figure_path, 'mean_sd_vm_free_whisking.png')\n",
    "plt.savefig(fname=fname, dpi='figure', format='png', bbox_inches='tight')\n",
    "       \n"
   ]
  },
  {
   "cell_type": "markdown",
   "metadata": {},
   "source": [
    "## Mean FFT per cell type"
   ]
  },
  {
   "cell_type": "markdown",
   "metadata": {},
   "source": [
    "To plot the mean FFT per cell type, remember we stored these mean FFT, per cell, in the variable `result_fft_cell_type`."
   ]
  },
  {
   "cell_type": "code",
   "execution_count": 54,
   "metadata": {},
   "outputs": [
    {
     "data": {
      "image/png": "[encoded data removed]",
      "text/plain": [
       "<Figure size 600x400 with 1 Axes>"
      ]
     },
     "metadata": {
      "needs_background": "light"
     },
     "output_type": "display_data"
    }
   ],
   "source": [
    "# Define figure\n",
    "fig, ax = plt.subplots(nrows=1,ncols=1,figsize=(6,4), dpi=100)\n",
    "remove_top_right_frame(ax)\n",
    "\n",
    "# Iterate over cell class\n",
    "for i, c_type in enumerate(cell_class_order):\n",
    "    \n",
    "    # Compute mean and std of FFT per cell class\n",
    "    mean_fft = np.nanmean(np.stack(result_fft_cell_type[c_type],axis=1),axis=1)\n",
    "    std_fft = np.nanstd(np.stack(result_fft_cell_type[c_type],axis=1),axis=1)\n",
    "    n_cells = np.stack(result_fft_cell_type[c_type],axis=1).shape[1]\n",
    "    \n",
    "    #Plot mean FFT \n",
    "    ax.plot(mean_fft, \n",
    "            lw=1, \n",
    "            c=class_color[c_type], \n",
    "            label=c_type,\n",
    "            zorder=1)\n",
    "    \n",
    "    # Get standard error of the mean\n",
    "    sem = std_fft / np.sqrt(n_cells)\n",
    "    \n",
    "    ax.semilogx(mean_fft+sem, \n",
    "                    color=class_color[c_type], \n",
    "                    alpha=0.3)\n",
    "    ax.semilogx(mean_fft-sem, \n",
    "                    color=class_color[c_type], \n",
    "                    alpha=0.3)\n",
    "    \n",
    "ax.set_xlabel('Frequency (Hz)')\n",
    "ax.set_ylabel('FFT amplitude (mV)')\n",
    "ax.set_title('Grand-average FFTs - free whisking')\n",
    "ax.legend(frameon=False, loc='upper right', title='Cell class')\n",
    "\n",
    "# Save figure\n",
    "fname = os.path.join(figure_path, 'grand_average_mean_fft_free_whisking.png')\n",
    "plt.savefig(fname=fname, dpi='figure', format='png', bbox_inches='tight')\n",
    "\n",
    "\n"
   ]
  },
  {
   "cell_type": "markdown",
   "metadata": {},
   "source": [
    "Or, using a provided function:"
   ]
  },
  {
   "cell_type": "code",
   "execution_count": 59,
   "metadata": {},
   "outputs": [],
   "source": [
    "from utils import plot_avg_mean_fft"
   ]
  },
  {
   "cell_type": "code",
   "execution_count": 60,
   "metadata": {},
   "outputs": [
    {
     "ename": "TypeError",
     "evalue": "plot_avg_mean_fft() takes 4 positional arguments but 5 were given",
     "output_type": "error",
     "traceback": [
      "\u001b[0;31m---------------------------------------------------------------------------\u001b[0m",
      "\u001b[0;31mTypeError\u001b[0m                                 Traceback (most recent call last)",
      "\u001b[0;32m/var/folders/vr/p3nztt9d26q4905fqmd3ljw00000gq/T/ipykernel_1691/3325186396.py\u001b[0m in \u001b[0;36m<module>\u001b[0;34m\u001b[0m\n\u001b[1;32m      8\u001b[0m     \u001b[0;31m#Provide as input a matrix (stacked average FFTs)\u001b[0m\u001b[0;34m\u001b[0m\u001b[0;34m\u001b[0m\u001b[0m\n\u001b[1;32m      9\u001b[0m     \u001b[0mfft_matrix\u001b[0m \u001b[0;34m=\u001b[0m \u001b[0mnp\u001b[0m\u001b[0;34m.\u001b[0m\u001b[0mstack\u001b[0m\u001b[0;34m(\u001b[0m\u001b[0mresult_fft_cell_type\u001b[0m\u001b[0;34m[\u001b[0m\u001b[0mc_type\u001b[0m\u001b[0;34m]\u001b[0m\u001b[0;34m,\u001b[0m \u001b[0maxis\u001b[0m\u001b[0;34m=\u001b[0m\u001b[0;36m1\u001b[0m\u001b[0;34m)\u001b[0m\u001b[0;34m\u001b[0m\u001b[0;34m\u001b[0m\u001b[0m\n\u001b[0;32m---> 10\u001b[0;31m     \u001b[0mplot_avg_mean_fft\u001b[0m\u001b[0;34m(\u001b[0m\u001b[0max\u001b[0m\u001b[0;34m,\u001b[0m \u001b[0mfft_matrix\u001b[0m\u001b[0;34m,\u001b[0m \u001b[0msr_vm\u001b[0m\u001b[0;34m,\u001b[0m \u001b[0mc_type\u001b[0m\u001b[0;34m,\u001b[0m \u001b[0mclass_color\u001b[0m\u001b[0;34m[\u001b[0m\u001b[0mc_type\u001b[0m\u001b[0;34m]\u001b[0m\u001b[0;34m)\u001b[0m\u001b[0;34m\u001b[0m\u001b[0;34m\u001b[0m\u001b[0m\n\u001b[0m\u001b[1;32m     11\u001b[0m \u001b[0;34m\u001b[0m\u001b[0m\n\u001b[1;32m     12\u001b[0m \u001b[0max\u001b[0m\u001b[0;34m.\u001b[0m\u001b[0mset_xlabel\u001b[0m\u001b[0;34m(\u001b[0m\u001b[0;34m'Frequency (Hz)'\u001b[0m\u001b[0;34m)\u001b[0m\u001b[0;34m\u001b[0m\u001b[0;34m\u001b[0m\u001b[0m\n",
      "\u001b[0;31mTypeError\u001b[0m: plot_avg_mean_fft() takes 4 positional arguments but 5 were given"
     ]
    },
    {
     "data": {
      "image/png": "[encoded data removed]",
      "text/plain": [
       "<Figure size 600x400 with 1 Axes>"
      ]
     },
     "metadata": {
      "needs_background": "light"
     },
     "output_type": "display_data"
    }
   ],
   "source": [
    "# Define figure\n",
    "fig, ax = plt.subplots(nrows=1,ncols=1,figsize=(6,4), dpi=100)\n",
    "remove_top_right_frame(ax)\n",
    "\n",
    "# Iterate over cell class\n",
    "for i, c_type in enumerate(cell_class_order):\n",
    "    \n",
    "    #Provide as input a matrix (stacked average FFTs)\n",
    "    fft_matrix = np.stack(result_fft_cell_type[c_type], axis=1)\n",
    "    plot_avg_mean_fft(ax, fft_matrix, sr_vm, c_type, class_color[c_type])\n",
    "\n",
    "ax.set_xlabel('Frequency (Hz)')\n",
    "ax.set_ylabel('FFT amplitude (mV)')\n",
    "ax.set_title('Grand-average FFTs - free whisking')\n",
    "ax.legend(frameon=False, loc='upper right', title='Cell class')\n",
    "\n",
    "# Save figure\n",
    "fname = os.path.join(figure_path, 'grand_average_mean_fft_free_whisking_2.png')\n",
    "plt.savefig(fname=fname, dpi='figure', format='png', bbox_inches='tight')\n"
   ]
  },
  {
   "cell_type": "markdown",
   "metadata": {},
   "source": [
    "## Mean FFT amplitude, low frequencies, per cell type"
   ]
  },
  {
   "cell_type": "code",
   "execution_count": 61,
   "metadata": {},
   "outputs": [
    {
     "data": {
      "image/png": "[encoded data removed]",
      "text/plain": [
       "<Figure size 600x400 with 1 Axes>"
      ]
     },
     "metadata": {
      "needs_background": "light"
     },
     "output_type": "display_data"
    }
   ],
   "source": [
    "# Define figure\n",
    "fig, ax = plt.subplots(nrows=1,ncols=1,figsize=(6,4), dpi=100)\n",
    "remove_top_right_frame(ax)\n",
    "\n",
    "# Iterate over cell class\n",
    "for i, c_type in enumerate(cell_class_order):\n",
    "    \n",
    "    n_cells = len(result_df[result_df.cell_type==c_type])\n",
    "    obs_locations = [i]*n_cells #create a list int, to place observations categorically\n",
    "    obs_values = result_df[result_df.cell_type==c_type]['fft_low'].values * 1000 #in mV\n",
    "    \n",
    "    # Show individual observations (scatterplot with added x-axis jitter to avoid overplotting)\n",
    "    jitter_scatterplot(x=obs_locations, \n",
    "                       y=obs_values,\n",
    "                       s=3, \n",
    "                       alpha=0.5, \n",
    "                       c=class_color[c_type])\n",
    "    \n",
    "    # Show mean and standard deviation\n",
    "    ax.errorbar(x=i+0.2,\n",
    "                 y=np.nanmean(obs_values),\n",
    "                 yerr=np.nanstd(obs_values), #errobarsize is standard deviation\n",
    "                 marker='o', \n",
    "                 ms=10, \n",
    "                 capsize=5, \n",
    "                 fillstyle='none',\n",
    "                 alpha=0.9, \n",
    "                 c=class_color[c_type])\n",
    "    \n",
    "# Set xtick labels and legend\n",
    "ax.set_xticks([0,1,2,3])\n",
    "ax.set_xticklabels(cell_class_order)\n",
    "ax.set_xlabel('Cell class')\n",
    "ax.set_ylabel('Amplitude (mV)')\n",
    "ax.set_title('FFT (1-10 Hz) - free whisking')\n",
    "    \n",
    "    \n",
    "# Save figure\n",
    "fname = os.path.join(figure_path, 'mean_fft_low_free_whisking.png')\n",
    "plt.savefig(fname=fname, dpi='figure', format='png', bbox_inches='tight')\n",
    "       \n"
   ]
  },
  {
   "cell_type": "markdown",
   "metadata": {},
   "source": [
    "## Mean FFT amplitude, high frequencies, per cell type"
   ]
  },
  {
   "cell_type": "code",
   "execution_count": 62,
   "metadata": {},
   "outputs": [
    {
     "data": {
      "image/png": "[encoded data removed]",
      "text/plain": [
       "<Figure size 600x400 with 1 Axes>"
      ]
     },
     "metadata": {
      "needs_background": "light"
     },
     "output_type": "display_data"
    }
   ],
   "source": [
    "# Define figure\n",
    "fig, ax = plt.subplots(nrows=1,ncols=1,figsize=(6,4), dpi=100)\n",
    "remove_top_right_frame(ax)\n",
    "\n",
    "# Iterate over cell class\n",
    "for i, c_type in enumerate(cell_class_order):\n",
    "    \n",
    "    n_cells = len(result_df[result_df.cell_type==c_type])\n",
    "    obs_locations = [i]*n_cells #create a list int, to place observations categorically\n",
    "    obs_values = result_df[result_df.cell_type==c_type]['fft_high'].values * 1000 #in mV\n",
    "    \n",
    "    # Show individual observations (scatterplot with added x-axis jitter to avoid overplotting)\n",
    "    jitter_scatterplot(x=obs_locations, \n",
    "                       y=obs_values,\n",
    "                       s=3, \n",
    "                       alpha=0.5, \n",
    "                       c=class_color[c_type])\n",
    "    \n",
    "    # Show mean and standard deviation\n",
    "    ax.errorbar(x=i+0.2,\n",
    "                 y=np.nanmean(obs_values),\n",
    "                 yerr=np.nanstd(obs_values), #errobarsize is standard deviation\n",
    "                 marker='o', \n",
    "                 ms=10, \n",
    "                 capsize=5, \n",
    "                 fillstyle='none',\n",
    "                 alpha=0.9, \n",
    "                 c=class_color[c_type])\n",
    "    \n",
    "# Set xtick labels and legend\n",
    "ax.set_xticks([0,1,2,3])\n",
    "ax.set_xticklabels(cell_class_order)\n",
    "ax.set_xlabel('Cell class')\n",
    "ax.set_ylabel('Amplitude (mV)')\n",
    "ax.set_title('FFT (30-90 Hz) - free whisking')\n",
    "    \n",
    "    \n",
    "# Save figure\n",
    "fname = os.path.join(figure_path, 'mean_fft_high_free_whisking.png')\n",
    "plt.savefig(fname=fname, dpi='figure', format='png', bbox_inches='tight')\n",
    "       \n"
   ]
  },
  {
   "cell_type": "markdown",
   "metadata": {},
   "source": [
    "**End of notebook**."
   ]
  },
  {
   "cell_type": "code",
   "execution_count": null,
   "metadata": {},
   "outputs": [],
   "source": []
  }
 ],
 "metadata": {
  "colab": {
   "collapsed_sections": [],
   "name": "Miniproject_part1.ipynb",
   "provenance": []
  },
  "kernelspec": {
   "display_name": "Python 3 (ipykernel)",
   "language": "python",
   "name": "python3"
  },
  "language_info": {
   "codemirror_mode": {
    "name": "ipython",
    "version": 3
   },
   "file_extension": ".py",
   "mimetype": "text/x-python",
   "name": "python",
   "nbconvert_exporter": "python",
   "pygments_lexer": "ipython3",
   "version": "3.9.7"
  },
  "vscode": {
   "interpreter": {
    "hash": "0a54084e6b208ee8d1ce3989ffc20924477a5f55f5a43e22e699a6741623861e"
   }
  }
 },
 "nbformat": 4,
 "nbformat_minor": 1
}
